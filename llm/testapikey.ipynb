{
 "cells": [
  {
   "cell_type": "code",
   "execution_count": 8,
   "metadata": {},
   "outputs": [
    {
     "name": "stdout",
     "output_type": "stream",
     "text": [
      "AI response: The term \"hi\" can have multiple meanings depending on the context:\n",
      "\n",
      "1. **Greeting**: \"Hi\" is a common, informal greeting used to acknowledge someone's presence or to initiate a conversation. It is often used in casual settings and is considered more informal than \"hello\".\n",
      "\n",
      "2. **Places**: \"HI\" can refer to specific locations such as Hawaii, the Hawaiian Islands, or Hainan, a province in China.\n",
      "\n",
      "3. **Language**: \"Hi\" is also a language code for Hindi, an Indo-Aryan language.\n",
      "\n",
      "4. **Science and Technology**: In various scientific contexts, \"HI\" can stand for hydrogen iodide, health informatics, historical institutionalism, hormonal imprinting, or hemagglutination inhibition.\n",
      "\n",
      "5. **Other Uses**: \"HI\" can be used in other contexts such as subtitles for the hearing impaired, as an abbreviation for Hostelling International, or as part of various acronyms and abbreviations.\n",
      "\n",
      "### Key Points:\n",
      "- **Greeting**: Informal greeting used in casual settings.\n",
      "- **Places**: Refers to Hawaii, Hawaiian Islands, or Hainan.\n",
      "- **Language**: Language code for Hindi.\n",
      "- **Science and Technology**: Various meanings including hydrogen iodide and health informatics.\n",
      "- **Other Uses**: Subtitles for the hearing impaired, Hostelling International, and other acronyms.\n"
     ]
    }
   ],
   "source": [
    "# Try perplexity.ai API with OpenAI Python SDK\n",
    "from openai import OpenAI\n",
    "\n",
    "# Initialize the client with Perplexity API settings\n",
    "client = OpenAI(\n",
    "    api_key=\"pplx-xxxxxxxxxxxxxxxxxxxxxxxxxxxxxxxx\",  # Your Perplexity API key\n",
    "    base_url=\"https://api.perplexity.ai\"\n",
    ")\n",
    "\n",
    "def get_ai_response(message):\n",
    "    try:\n",
    "        # Make a request to the Perplexity API\n",
    "        response = client.chat.completions.create(\n",
    "            model=\"llama-3.1-sonar-huge-128k-online\",  # Perplexity model\n",
    "            messages=[\n",
    "                {\"role\": \"system\", \"content\": \"You are a helpful assistant.\"},\n",
    "                {\"role\": \"user\", \"content\": message}\n",
    "            ]\n",
    "        )\n",
    "        \n",
    "        # Extract and return the AI's response\n",
    "        return response.choices[0].message.content\n",
    "    except Exception as e:\n",
    "        return f\"An error occurred: {str(e)}\"\n",
    "\n",
    "# Example usage\n",
    "user_message = input(\"Enter your message: \")\n",
    "ai_response = get_ai_response(user_message)                         \n",
    "print(\"AI response:\", ai_response)"
   ]
  },
  {
   "cell_type": "code",
   "execution_count": 1,
   "metadata": {},
   "outputs": [
    {
     "name": "stdout",
     "output_type": "stream",
     "text": [
      "The image depicts a checkerboard pattern printed on a sheet of paper. The checkerboard pattern consists of black and white squares arranged in an alternating pattern. The sheet of paper is placed on a dark-colored flat surface, and there are some additional objects visible around the paper, including what appears to be a cardboard file or folder with a book inside and a red bottle with some decoration on the cap. The checkerboard pattern is likely used for camera calibration, as the text on the paper suggests.\n"
     ]
    }
   ],
   "source": [
    "from openai import AzureOpenAI\n",
    "import base64\n",
    "import configparser\n",
    "\n",
    "gg_config = configparser.ConfigParser()\n",
    "gg_config.read('ggapikey.ini')\n",
    "\n",
    "# Set up the Azure OpenAI client\n",
    "client = AzureOpenAI(\n",
    "    api_key=gg_config['Azure']['azure_openai_gpt4o_api_key'],  \n",
    "    api_version=gg_config['Azure']['azure_openai_gpt4o_api_version'],\n",
    "    azure_endpoint=gg_config['Azure']['azure_openai_gpt4o_endpoint']\n",
    ")\n",
    "\n",
    "# Function to encode the image\n",
    "def encode_image(image_path):\n",
    "    with open(image_path, \"rb\") as image_file:\n",
    "        return base64.b64encode(image_file.read()).decode('utf-8')\n",
    "\n",
    "# Path to your image\n",
    "image_path = \"./test.jpg\"\n",
    "base64_image = encode_image(image_path)\n",
    "\n",
    "# Create the API call\n",
    "response = client.chat.completions.create(\n",
    "    model=\"gpt-4o\",  # Use the name you gave to your GPT-4o deployment\n",
    "    messages=[\n",
    "        {\"role\": \"system\", \"content\": \"You are a helpful assistant that can analyze images.\"},\n",
    "        {\"role\": \"user\", \"content\": [\n",
    "            {\"type\": \"text\", \"text\": \"What do you see in this image?\"},\n",
    "            {\"type\": \"image_url\", \"image_url\": {\"url\": f\"data:image/jpeg;base64,{base64_image}\"}}\n",
    "        ]}\n",
    "    ],\n",
    "    max_tokens=300\n",
    ")\n",
    "\n",
    "# Print the response\n",
    "print(response.choices[0].message.content)"
   ]
  }
 ],
 "metadata": {
  "kernelspec": {
   "display_name": "Python 3",
   "language": "python",
   "name": "python3"
  },
  "language_info": {
   "codemirror_mode": {
    "name": "ipython",
    "version": 3
   },
   "file_extension": ".py",
   "mimetype": "text/x-python",
   "name": "python",
   "nbconvert_exporter": "python",
   "pygments_lexer": "ipython3",
   "version": "3.9.6"
  }
 },
 "nbformat": 4,
 "nbformat_minor": 2
}
